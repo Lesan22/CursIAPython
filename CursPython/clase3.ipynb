{
 "cells": [
  {
   "cell_type": "code",
   "execution_count": 6,
   "metadata": {},
   "outputs": [],
   "source": [
    "import numpy as np\n",
    "a = np.array([[3.25,7.19,8.66,7.36],\n",
    "             [9.35,7.26,4.76,7.61],\n",
    "             [1.75,5.15,3.60,7.88],\n",
    "             [5.45,6.29,3.22,7.19]])\n"
   ]
  },
  {
   "cell_type": "code",
   "execution_count": 7,
   "metadata": {},
   "outputs": [
    {
     "name": "stdout",
     "output_type": "stream",
     "text": [
      "(4, 4)\n"
     ]
    }
   ],
   "source": [
    "print (a.shape)"
   ]
  },
  {
   "cell_type": "code",
   "execution_count": 8,
   "metadata": {},
   "outputs": [
    {
     "data": {
      "text/plain": [
       "3.6"
      ]
     },
     "execution_count": 8,
     "metadata": {},
     "output_type": "execute_result"
    }
   ],
   "source": [
    "a[2,2]"
   ]
  },
  {
   "cell_type": "code",
   "execution_count": 9,
   "metadata": {},
   "outputs": [
    {
     "data": {
      "text/plain": [
       "array([1.75, 5.15, 3.6 , 7.88])"
      ]
     },
     "execution_count": 9,
     "metadata": {},
     "output_type": "execute_result"
    }
   ],
   "source": [
    "a[2,:]#:son totes les columnes o les files"
   ]
  },
  {
   "cell_type": "code",
   "execution_count": 10,
   "metadata": {},
   "outputs": [
    {
     "data": {
      "text/plain": [
       "array([[3.25, 7.19],\n",
       "       [8.66, 7.36],\n",
       "       [9.35, 7.26],\n",
       "       [4.76, 7.61],\n",
       "       [1.75, 5.15],\n",
       "       [3.6 , 7.88],\n",
       "       [5.45, 6.29],\n",
       "       [3.22, 7.19]])"
      ]
     },
     "execution_count": 10,
     "metadata": {},
     "output_type": "execute_result"
    }
   ],
   "source": [
    "a.reshape(8,2)"
   ]
  },
  {
   "cell_type": "code",
   "execution_count": 11,
   "metadata": {},
   "outputs": [
    {
     "name": "stdout",
     "output_type": "stream",
     "text": [
      "1.75\n"
     ]
    }
   ],
   "source": [
    "print (a.min())"
   ]
  },
  {
   "cell_type": "code",
   "execution_count": 12,
   "metadata": {},
   "outputs": [
    {
     "name": "stdout",
     "output_type": "stream",
     "text": [
      "9.35\n"
     ]
    }
   ],
   "source": [
    "print (a.max())"
   ]
  },
  {
   "cell_type": "code",
   "execution_count": 13,
   "metadata": {},
   "outputs": [
    {
     "name": "stdout",
     "output_type": "stream",
     "text": [
      "[1.75 5.15 3.22 7.19]\n"
     ]
    }
   ],
   "source": [
    "print (a.min(0))"
   ]
  },
  {
   "cell_type": "code",
   "execution_count": 14,
   "metadata": {},
   "outputs": [
    {
     "name": "stdout",
     "output_type": "stream",
     "text": [
      "[3.25 4.76 1.75 3.22]\n"
     ]
    }
   ],
   "source": [
    "print(a.min(1))"
   ]
  },
  {
   "cell_type": "code",
   "execution_count": 16,
   "metadata": {},
   "outputs": [
    {
     "name": "stdout",
     "output_type": "stream",
     "text": [
      "[[3.25 7.19 8.66 7.36 9.35 7.26 4.76 7.61 1.75 5.15 3.6  7.88 5.45 6.29\n",
      "  3.22 7.19]]\n"
     ]
    },
    {
     "data": {
      "text/plain": [
       "4"
      ]
     },
     "execution_count": 16,
     "metadata": {},
     "output_type": "execute_result"
    }
   ],
   "source": [
    "b=a.reshape(1,16) #pasem tota la matriu a una única fila\n",
    "print(b)\n",
    "a.argmax() #busquem la posició del valor més alt"
   ]
  },
  {
   "cell_type": "code",
   "execution_count": 22,
   "metadata": {},
   "outputs": [
    {
     "name": "stdout",
     "output_type": "stream",
     "text": [
      "[1 1 0 2]\n",
      "[2 0 3 3]\n",
      "[[3.25 7.19 8.66 7.36]\n",
      " [9.35 7.26 4.76 7.61]\n",
      " [1.75 5.15 3.6  7.88]\n",
      " [5.45 6.29 3.22 7.19]]\n"
     ]
    }
   ],
   "source": [
    "print (a.argmax(0))#de cada columna\n",
    "print (a.argmax(1))#de cada fila\n",
    "print (a)"
   ]
  },
  {
   "cell_type": "code",
   "execution_count": 26,
   "metadata": {},
   "outputs": [
    {
     "name": "stdout",
     "output_type": "stream",
     "text": [
      "[[3.25]\n",
      " [7.19]\n",
      " [8.66]\n",
      " [7.36]\n",
      " [9.35]\n",
      " [7.26]\n",
      " [4.76]\n",
      " [7.61]\n",
      " [1.75]\n",
      " [5.15]\n",
      " [3.6 ]\n",
      " [7.88]\n",
      " [5.45]\n",
      " [6.29]\n",
      " [3.22]\n",
      " [7.19]]\n"
     ]
    }
   ],
   "source": [
    "a.ndim\n",
    "c=a.reshape(-1,1) #aplanar tot per tenir una única dimensió (-1) el segon 1 es per que aquesta dimensió sigui una columna, si no es posa (c=a.reshape(-1) sería una fila, pero la IA treballa amb columnes.\n",
    "c.ndim\n",
    "print(c)"
   ]
  }
 ],
 "metadata": {
  "kernelspec": {
   "display_name": "Python 3",
   "language": "python",
   "name": "python3"
  },
  "language_info": {
   "codemirror_mode": {
    "name": "ipython",
    "version": 3
   },
   "file_extension": ".py",
   "mimetype": "text/x-python",
   "name": "python",
   "nbconvert_exporter": "python",
   "pygments_lexer": "ipython3",
   "version": "3.11.4"
  },
  "orig_nbformat": 4
 },
 "nbformat": 4,
 "nbformat_minor": 2
}
